{
 "cells": [
  {
   "cell_type": "markdown",
   "id": "0aa7024b-79e0-4347-a03a-4711bdebcc25",
   "metadata": {},
   "source": [
    "# Реализация метода Noise2Void\n"
   ]
  },
  {
   "cell_type": "code",
   "execution_count": null,
   "id": "fd96919a-bfe9-4f14-a0e3-1e831c5ef953",
   "metadata": {},
   "outputs": [],
   "source": []
  },
  {
   "cell_type": "code",
   "execution_count": null,
   "id": "6f4725b0-769f-4693-9db2-b8d2498bb88d",
   "metadata": {},
   "outputs": [],
   "source": []
  },
  {
   "cell_type": "code",
   "execution_count": null,
   "id": "9a8a27f9-10eb-41bd-a3ed-9cf58b08109a",
   "metadata": {},
   "outputs": [],
   "source": []
  },
  {
   "cell_type": "code",
   "execution_count": null,
   "id": "55f91115-18b3-481b-8f27-f5886299f1c6",
   "metadata": {},
   "outputs": [],
   "source": []
  },
  {
   "cell_type": "code",
   "execution_count": null,
   "id": "c238cee8-5583-4294-a475-b21e15e7a4f8",
   "metadata": {},
   "outputs": [],
   "source": []
  },
  {
   "cell_type": "code",
   "execution_count": null,
   "id": "0e624c76-f1d4-443d-8513-f51dab7bc45b",
   "metadata": {},
   "outputs": [],
   "source": []
  },
  {
   "cell_type": "code",
   "execution_count": null,
   "id": "6ee36aa0-0309-47ab-901b-cdc5d1c9a4e8",
   "metadata": {},
   "outputs": [],
   "source": []
  },
  {
   "cell_type": "code",
   "execution_count": null,
   "id": "b63bd980-ad22-4c4f-8195-3342822aed08",
   "metadata": {},
   "outputs": [],
   "source": []
  },
  {
   "cell_type": "code",
   "execution_count": null,
   "id": "45a9b5f5-d737-42d3-80e5-cecff9cae47b",
   "metadata": {},
   "outputs": [],
   "source": []
  },
  {
   "cell_type": "code",
   "execution_count": null,
   "id": "15bbd7fa-9009-42b6-8bc3-95a1ef341524",
   "metadata": {},
   "outputs": [],
   "source": []
  },
  {
   "cell_type": "code",
   "execution_count": null,
   "id": "31d6794b-942b-4d86-bf9a-ed399a1e8611",
   "metadata": {},
   "outputs": [],
   "source": []
  },
  {
   "cell_type": "code",
   "execution_count": null,
   "id": "1e71232d-ad78-41c9-bedc-ee769693adb9",
   "metadata": {},
   "outputs": [],
   "source": []
  },
  {
   "cell_type": "code",
   "execution_count": null,
   "id": "d81fe7a8-33ec-4cd4-b362-37f757e06cb6",
   "metadata": {},
   "outputs": [],
   "source": []
  }
 ],
 "metadata": {
  "kernelspec": {
   "display_name": "Python (noise2void)",
   "language": "python",
   "name": "noise2void_env"
  },
  "language_info": {
   "codemirror_mode": {
    "name": "ipython",
    "version": 3
   },
   "file_extension": ".py",
   "mimetype": "text/x-python",
   "name": "python",
   "nbconvert_exporter": "python",
   "pygments_lexer": "ipython3",
   "version": "3.10.16"
  }
 },
 "nbformat": 4,
 "nbformat_minor": 5
}
